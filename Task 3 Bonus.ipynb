{
 "cells": [
  {
   "cell_type": "markdown",
   "metadata": {},
   "source": [
    "## Game Theory Task 3\n",
    "## Extra Game"
   ]
  },
  {
   "cell_type": "markdown",
   "metadata": {},
   "source": [
    "### QUACK"
   ]
  },
  {
   "cell_type": "markdown",
   "metadata": {},
   "source": [
    "###      \n",
    "     Team Members:\n",
    "     Ali Shaker - 20201701725      Diaa Amr - 20201701720        Rawan Mohsen - 20201701717      Mariam Alaa - 20201701739"
   ]
  },
  {
   "cell_type": "code",
   "execution_count": null,
   "metadata": {},
   "outputs": [],
   "source": [
    "import tkinter as tk\n",
    "from tkinter import simpledialog\n",
    "from tkinter import messagebox\n",
    "\n",
    "class BettingGame:\n",
    "    def __init__(self, master):\n",
    "        self.master = master\n",
    "        master.title(\"Chip Betting Game\")\n",
    "        master.configure(bg=\"#282c34\")\n",
    "\n",
    "        self.player_chips = 15\n",
    "        self.computer_chips = 15\n",
    "        self.player_rounds_won = 0\n",
    "        self.computer_rounds_won = 0\n",
    "\n",
    "        self.status_label = tk.Label(master, text=\"Welcome to the Chip Betting Game!\", font=(\"Helvetica\", 16, \"bold\"), bg=\"#61afef\", fg=\"white\")\n",
    "        self.status_label.pack(pady=10, fill=tk.X)\n",
    "\n",
    "        self.chips_label = tk.Label(master, text=\"Your chips: 15, Computer's chips: 15\", font=(\"Helvetica\", 14), bg=\"#98c379\", fg=\"white\")\n",
    "        self.chips_label.pack(pady=5)\n",
    "\n",
    "        self.round_result_label = tk.Label(master, text=\"\", font=(\"Helvetica\", 12), bg=\"#282c34\", fg=\"white\")\n",
    "        self.round_result_label.pack(pady=5)\n",
    "\n",
    "        self.bet_button = tk.Button(master, text=\"Bet Chips\", font=(\"Helvetica\", 12), bg=\"#e06c75\", fg=\"white\", command=self.player_bet)\n",
    "        self.bet_button.pack(pady=20)\n",
    "\n",
    "        self.close_button = tk.Button(master, text=\"Close\", font=(\"Helvetica\", 12), bg=\"#e06c75\", fg=\"white\", command=master.quit)\n",
    "        self.close_button.pack(pady=10)\n",
    "\n",
    "    def player_bet(self):\n",
    "        bet = simpledialog.askinteger(\"Your bet\", \"Enter your bet (0-3):\", minvalue=0, maxvalue=3)\n",
    "        if bet is None:  # User canceled the bet.\n",
    "            return\n",
    "        computer_bet = self.computer_strategy()\n",
    "        self.evaluate_round(bet, computer_bet)\n",
    "\n",
    "    def computer_strategy(self):\n",
    "        # Simple strategy for computer: random or based on remaining chips\n",
    "        import random\n",
    "        return random.randint(0, min(3, self.computer_chips))\n",
    "\n",
    "    def evaluate_round(self, player_bet, computer_bet):\n",
    "        self.player_chips -= player_bet\n",
    "        self.computer_chips -= computer_bet\n",
    "\n",
    "        if player_bet > computer_bet:\n",
    "            self.player_rounds_won += 1\n",
    "            round_result = \"You win this round!\"\n",
    "        elif player_bet < computer_bet:\n",
    "            self.computer_rounds_won += 1\n",
    "            round_result = \"Computer wins this round!\"\n",
    "        else:\n",
    "            round_result = \"This round is a draw.\"\n",
    "\n",
    "        self.round_result_label.config(text=f\"You bet {player_bet}, Computer bet {computer_bet}. {round_result}\")\n",
    "        self.chips_label.config(text=f\"Your chips: {self.player_chips}, Computer's chips: {self.computer_chips}\")\n",
    "\n",
    "        if abs(self.player_rounds_won - self.computer_rounds_won) >= 3:\n",
    "            winner = \"Player\" if self.player_rounds_won > self.computer_rounds_won else \"Computer\"\n",
    "            self.status_label.config(text=f\"{winner} wins the game!\", bg=\"#c678dd\")\n",
    "            self.bet_button.config(state=\"disabled\")  # Disable betting after game end\n",
    "            messagebox.showinfo(\"Game Over\", f\"{winner} wins the game!\")\n",
    "\n",
    "def main():\n",
    "    root = tk.Tk()\n",
    "    game = BettingGame(root)\n",
    "    root.mainloop()\n",
    "\n",
    "if __name__ == \"__main__\":\n",
    "    main()\n"
   ]
  }
 ],
 "metadata": {
  "kernelspec": {
   "display_name": "Python 3",
   "language": "python",
   "name": "python3"
  },
  "language_info": {
   "codemirror_mode": {
    "name": "ipython",
    "version": 3
   },
   "file_extension": ".py",
   "mimetype": "text/x-python",
   "name": "python",
   "nbconvert_exporter": "python",
   "pygments_lexer": "ipython3",
   "version": "3.10.11"
  }
 },
 "nbformat": 4,
 "nbformat_minor": 2
}
